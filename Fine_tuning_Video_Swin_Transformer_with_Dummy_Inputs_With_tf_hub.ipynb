{
  "nbformat": 4,
  "nbformat_minor": 0,
  "metadata": {
    "colab": {
      "provenance": []
    },
    "kernelspec": {
      "name": "python3",
      "display_name": "Python 3"
    },
    "language_info": {
      "name": "python"
    }
  },
  "cells": [
    {
      "cell_type": "markdown",
      "source": [
        "TODO: Change runtime type to GPU"
      ],
      "metadata": {
        "id": "0h2demlvF-tJ"
      }
    },
    {
      "cell_type": "code",
      "source": [
        "!pip -q install tensorflow-addons timm einops mmcv"
      ],
      "metadata": {
        "id": "ZjPkU0gC_GW_"
      },
      "execution_count": null,
      "outputs": []
    },
    {
      "cell_type": "code",
      "execution_count": null,
      "metadata": {
        "id": "2tAf90cT-jOg"
      },
      "outputs": [],
      "source": [
        "import tensorflow as tf\n",
        "import numpy as np\n",
        "import tensorflow_addons as tfa\n",
        "import sys\n",
        "import tensorflow_hub as hub\n"
      ]
    },
    {
      "cell_type": "code",
      "source": [
        "! git clone https://github.com/shoaib6174/GSOC-22-Video-Swin-Transformers\n",
        "sys.path.append(\"/content/GSOC-22-Video-Swin-Transformers\")"
      ],
      "metadata": {
        "colab": {
          "base_uri": "https://localhost:8080/"
        },
        "id": "XbwxYG7N-w-r",
        "outputId": "1bd9ca7e-039a-4047-9b11-fc8870378025"
      },
      "execution_count": null,
      "outputs": [
        {
          "output_type": "stream",
          "name": "stdout",
          "text": [
            "fatal: destination path 'GSOC-22-Video-Swin-Transformers' already exists and is not an empty directory.\n"
          ]
        }
      ]
    },
    {
      "cell_type": "code",
      "source": [
        "from VideoSwinTransformer import  I3DHead_tf , CosineAnnealingWithWarmupSchedule"
      ],
      "metadata": {
        "id": "dkR1S7xx_d1F"
      },
      "execution_count": null,
      "outputs": []
    },
    {
      "cell_type": "code",
      "source": [
        "def get_model(num_classes, backbone ,shape_of_input=(3,32,224,224)):\n",
        "    inputs = tf.keras.Input(shape_of_input[1:])\n",
        "\n",
        "    x = backbone(inputs, training= True)\n",
        "    outputs = I3DHead_tf(num_classes, 768, training=True)(x)\n",
        "    return tf.keras.Model(inputs, outputs)"
      ],
      "metadata": {
        "id": "YKkOSg3P_5DO"
      },
      "execution_count": null,
      "outputs": []
    },
    {
      "cell_type": "markdown",
      "source": [
        "## Single-gpu training"
      ],
      "metadata": {
        "id": "5HEQOGKG_9HQ"
      }
    },
    {
      "cell_type": "code",
      "source": [
        "batch_size = 1\n",
        "num_frames = 32\n",
        "resolution = 224\n",
        "channels = 3\n",
        "sample_count = 10\n",
        "num_classes = 5\n",
        "\n",
        "shape_of_input = (sample_count, 3, num_frames, resolution,resolution)"
      ],
      "metadata": {
        "id": "ouw53zFC_6sL"
      },
      "execution_count": null,
      "outputs": []
    },
    {
      "cell_type": "code",
      "source": [
        "videos = tf.random.normal(shape_of_input)\n",
        "labels = tf.random.uniform(shape=[sample_count], minval=0, maxval=num_classes, dtype='int64')\n",
        "labels = tf.one_hot(labels, num_classes)\n",
        "\n",
        "len(videos), videos[0].shape, labels.shape"
      ],
      "metadata": {
        "colab": {
          "base_uri": "https://localhost:8080/"
        },
        "id": "WJoY7ASbAHAd",
        "outputId": "95b7a389-73eb-4259-ee09-28c5a80e5732"
      },
      "execution_count": null,
      "outputs": [
        {
          "output_type": "execute_result",
          "data": {
            "text/plain": [
              "(10, TensorShape([3, 32, 224, 224]), TensorShape([10, 5]))"
            ]
          },
          "metadata": {},
          "execution_count": 36
        }
      ]
    },
    {
      "cell_type": "code",
      "source": [
        "num_epochs = 3\n",
        "\n",
        "warmup_epoch = 2\n",
        "total_steps = int(num_epochs * sample_count / batch_size)\n",
        "\n",
        "# Compute the number of warmup batches.\n",
        "warmup_steps = int(warmup_epoch * sample_count / batch_size)\n",
        "\n",
        "train_steps = sample_count// batch_size\n",
        "total_train_steps = train_steps * num_epochs\n",
        "test_steps = sample_count // batch_size"
      ],
      "metadata": {
        "id": "lsKEHn60AJAI"
      },
      "execution_count": null,
      "outputs": []
    },
    {
      "cell_type": "code",
      "source": [
        "# loading the tf2 model with converted pre-trained weights\n",
        "path_to_model_weights = \"https://gsoc4108768259.blob.core.windows.net/azureml-blobstore-cf8fa289-ef6f-4db3-b097-1d65257e5a14/swin_tiny_patch244_window877_kinetics400_1k_tf.tar.gz\"\n",
        "backbone = hub.KerasLayer(path_to_model_weights)"
      ],
      "metadata": {
        "id": "feZd8hfNAOPh"
      },
      "execution_count": null,
      "outputs": []
    },
    {
      "cell_type": "code",
      "source": [
        "model = get_model(num_classes,  backbone,shape_of_input=shape_of_input)\n",
        "\n",
        "## backbone model has a multiplier of 0.1 for learning rate. To implement that MultiOptimizer is being used\n",
        "lr_backbone = CosineAnnealingWithWarmupSchedule(learning_rate_base=.001,\n",
        "                                    total_steps=total_steps,\n",
        "                                    warmup_learning_rate=0.0,\n",
        "                                    warmup_steps=warmup_steps,\n",
        "                                    hold_base_rate_steps=0)\n",
        "lr_classifier = CosineAnnealingWithWarmupSchedule(learning_rate_base=.01,\n",
        "                                        total_steps=total_steps,\n",
        "                                        warmup_learning_rate=0.0,\n",
        "                                        warmup_steps=warmup_steps,\n",
        "                                        hold_base_rate_steps=0)\n",
        "\n",
        "optimizer_backbone = tfa.optimizers.AdamW(weight_decay= 0.05,learning_rate=lr_backbone, beta_1= 0.9, beta_2=0.999, epsilon=1e-8)\n",
        "optimizer_classifier = tfa.optimizers.AdamW(weight_decay= 0.05,learning_rate=lr_classifier, beta_1= 0.9, beta_2=0.999, epsilon=1e-8)\n",
        "\n",
        "optimizers_and_layers = [(optimizer_backbone, model.layers[1]), (optimizer_classifier, model.layers[2])]\n",
        "optimizer = tfa.optimizers.MultiOptimizer(optimizers_and_layers)\n",
        "\n",
        "loss_obj = tf.keras.losses.CategoricalCrossentropy(from_logits=True,label_smoothing=0.1,\n",
        "                                    reduction=tf.keras.losses.Reduction.SUM)\n",
        "\n",
        "metrics=[\"top_k_categorical_accuracy\"]\n",
        "\n",
        "model.compile(loss=loss_obj, optimizer=optimizer, metrics=metrics)"
      ],
      "metadata": {
        "colab": {
          "base_uri": "https://localhost:8080/"
        },
        "id": "fHn3eUSpAKg7",
        "outputId": "0a4f70fa-6958-4b5d-8a7f-e64cedaefb51"
      },
      "execution_count": null,
      "outputs": [
        {
          "output_type": "stream",
          "name": "stdout",
          "text": [
            "5 768 {'type': 'CrossEntropyLoss'} avg 0.5 0.01 {'training': True}\n"
          ]
        }
      ]
    },
    {
      "cell_type": "code",
      "source": [
        "results = model.fit(videos,labels,\n",
        "    epochs=num_epochs,\n",
        "    steps_per_epoch=train_steps,\n",
        "    validation_steps=test_steps,\n",
        "    callbacks=[],\n",
        "    validation_freq=1,\n",
        "    verbose=1)"
      ],
      "metadata": {
        "colab": {
          "base_uri": "https://localhost:8080/"
        },
        "id": "dusZbctIAdd9",
        "outputId": "83bd276d-54a6-4495-f8b9-c3e1bb82a621"
      },
      "execution_count": null,
      "outputs": [
        {
          "output_type": "stream",
          "name": "stdout",
          "text": [
            "Epoch 1/3\n",
            "lr = 0.0005\n",
            "lr = 0.0005\n",
            "10/10 [==============================] - 61s 4s/step - loss: 1.6358 - top_k_categorical_accuracy: 1.0000\n",
            "Epoch 2/3\n",
            "10/10 [==============================] - 37s 4s/step - loss: 1.5638 - top_k_categorical_accuracy: 1.0000\n",
            "Epoch 3/3\n",
            "10/10 [==============================] - 37s 4s/step - loss: 1.5532 - top_k_categorical_accuracy: 1.0000\n"
          ]
        }
      ]
    },
    {
      "cell_type": "markdown",
      "source": [
        "## Distributed Training"
      ],
      "metadata": {
        "id": "ApXl0yWGAfDQ"
      }
    },
    {
      "cell_type": "code",
      "source": [
        "batch_size = 2\n",
        "num_frames = 32\n",
        "resolution = 224\n",
        "channels = 3\n",
        "sample_count = 10\n",
        "num_classes = 5\n",
        "\n",
        "shape_of_input = (sample_count, 3, num_frames, resolution,resolution)"
      ],
      "metadata": {
        "id": "dzVneTLhAeTF"
      },
      "execution_count": null,
      "outputs": []
    },
    {
      "cell_type": "code",
      "source": [
        "videos = tf.random.normal(shape_of_input)\n",
        "labels = tf.random.uniform(shape=[sample_count], minval=0, maxval=num_classes, dtype='int64')\n",
        "labels = tf.one_hot(labels, num_classes)\n",
        "\n",
        "len(videos), videos[0].shape, labels.shape"
      ],
      "metadata": {
        "colab": {
          "base_uri": "https://localhost:8080/"
        },
        "id": "n45AezvvBG2A",
        "outputId": "b4694052-afc8-4373-ecfe-28bdad41c9af"
      },
      "execution_count": null,
      "outputs": [
        {
          "output_type": "execute_result",
          "data": {
            "text/plain": [
              "(10, TensorShape([3, 32, 224, 224]), TensorShape([10, 5]))"
            ]
          },
          "metadata": {},
          "execution_count": 42
        }
      ]
    },
    {
      "cell_type": "code",
      "source": [
        "num_epochs = 3\n",
        "\n",
        "warmup_epoch = 2\n",
        "total_steps = int(num_epochs * sample_count / batch_size)\n",
        "\n",
        "# Compute the number of warmup batches.\n",
        "warmup_steps = int(warmup_epoch * sample_count / batch_size)\n",
        "\n",
        "train_steps = sample_count// batch_size\n",
        "total_train_steps = train_steps * num_epochs\n",
        "test_steps = sample_count // batch_size"
      ],
      "metadata": {
        "id": "Wn4n5UZuBN0k"
      },
      "execution_count": null,
      "outputs": []
    },
    {
      "cell_type": "code",
      "source": [
        "strategy = tf.distribute.MirroredStrategy()\n"
      ],
      "metadata": {
        "colab": {
          "base_uri": "https://localhost:8080/"
        },
        "id": "ZXqRy363BPUe",
        "outputId": "5fc9a9a3-16f8-495b-8c49-4df2f80585bc"
      },
      "execution_count": null,
      "outputs": [
        {
          "output_type": "stream",
          "name": "stderr",
          "text": [
            "WARNING:tensorflow:There are non-GPU devices in `tf.distribute.Strategy`, not using nccl allreduce.\n"
          ]
        }
      ]
    },
    {
      "cell_type": "code",
      "source": [
        "with strategy.scope():\n",
        "\n",
        "    # loading the tf2 model with converted pre-trained weights\n",
        "    # loading the tf2 model with converted pre-trained weights\n",
        "    path_to_model_weights = \"https://gsoc4108768259.blob.core.windows.net/azureml-blobstore-cf8fa289-ef6f-4db3-b097-1d65257e5a14/swin_tiny_patch244_window877_kinetics400_1k_tf.tar.gz\"\n",
        "    backbone = hub.KerasLayer(path_to_model_weights)\n",
        "\n",
        "    model_dist = get_model(num_classes,  backbone,shape_of_input=shape_of_input)\n",
        "\n",
        "    ## To implement different learning rate for backbone and classifier MultiOptimizer is being used\n",
        "    lr_backbone = CosineAnnealingWithWarmupSchedule(learning_rate_base=.001,\n",
        "                                        total_steps=total_steps,\n",
        "                                        warmup_learning_rate=0.0,\n",
        "                                        warmup_steps=warmup_steps,\n",
        "                                        hold_base_rate_steps=0)\n",
        "    lr_classifier = CosineAnnealingWithWarmupSchedule(learning_rate_base=.01,\n",
        "                                            total_steps=total_steps,\n",
        "                                            warmup_learning_rate=0.0,\n",
        "                                            warmup_steps=warmup_steps,\n",
        "                                            hold_base_rate_steps=0)\n",
        "\n",
        "    optimizer_backbone = tfa.optimizers.AdamW(weight_decay= 0.05,learning_rate=lr_backbone, beta_1= 0.9, beta_2=0.999, epsilon=1e-8)\n",
        "    optimizer_classifier = tfa.optimizers.AdamW(weight_decay= 0.05,learning_rate=lr_classifier, beta_1= 0.9, beta_2=0.999, epsilon=1e-8)\n",
        "\n",
        "    optimizers_and_layers = [(optimizer_backbone, model.layers[1]), (optimizer_classifier, model.layers[2])]\n",
        "    optimizer = tfa.optimizers.MultiOptimizer(optimizers_and_layers)\n",
        "\n",
        "    loss_obj = tf.keras.losses.CategoricalCrossentropy(from_logits=True,label_smoothing=0.1,\n",
        "                                        reduction=tf.keras.losses.Reduction.SUM)\n",
        "\n",
        "    metrics=[\"top_k_categorical_accuracy\"]\n",
        "\n",
        "    model_dist.compile(loss=loss_obj, optimizer=optimizer, metrics=metrics)"
      ],
      "metadata": {
        "colab": {
          "base_uri": "https://localhost:8080/"
        },
        "id": "liqqICuNBREL",
        "outputId": "d8215f3d-c834-4b60-c78b-638481ec0b8d"
      },
      "execution_count": null,
      "outputs": [
        {
          "output_type": "stream",
          "name": "stdout",
          "text": [
            "5 768 {'type': 'CrossEntropyLoss'} avg 0.5 0.01 {'training': True}\n"
          ]
        }
      ]
    },
    {
      "cell_type": "code",
      "source": [
        "results = model_dist.fit(videos,labels,\n",
        "    epochs=num_epochs,\n",
        "    steps_per_epoch=train_steps,\n",
        "    validation_steps=test_steps,\n",
        "    callbacks=[],\n",
        "    validation_freq=1,\n",
        "    verbose=1)"
      ],
      "metadata": {
        "colab": {
          "base_uri": "https://localhost:8080/"
        },
        "id": "Cg5q1TO_BS-E",
        "outputId": "7cec7a09-cea5-48b5-df9d-c5d2a3512a74"
      },
      "execution_count": null,
      "outputs": [
        {
          "metadata": {
            "tags": null
          },
          "name": "stdout",
          "output_type": "stream",
          "text": [
            "Epoch 1/3\n",
            "5/5 [==============================] - 51s 8s/step - loss: 3.2057 - top_k_categorical_accuracy: 1.0000\n",
            "Epoch 2/3\n",
            "5/5 [==============================] - 36s 7s/step - loss: 3.1796 - top_k_categorical_accuracy: 1.0000\n",
            "Epoch 3/3\n",
            "5/5 [==============================] - 37s 8s/step - loss: 3.1034 - top_k_categorical_accuracy: 1.0000\n"
          ]
        }
      ]
    },
    {
      "cell_type": "code",
      "source": [],
      "metadata": {
        "id": "ewhbYq1DpqDt"
      },
      "execution_count": null,
      "outputs": []
    }
  ]
}